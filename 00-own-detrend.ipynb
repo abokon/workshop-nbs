{
 "cells": [
  {
   "cell_type": "code",
   "execution_count": null,
   "metadata": {},
   "outputs": [],
   "source": [
    "import numpy as np\n",
    "from scipy import interpolate\n",
    "import matplotlib.pyplot as plt\n",
    "\n",
    "import pandas as pd\n",
    "from scipy.interpolate import make_interp_spline"
   ]
  },
  {
   "cell_type": "code",
   "execution_count": null,
   "metadata": {},
   "outputs": [],
   "source": [
    "# filename\n",
    "# period\n",
    "# t0\n",
    "fname = ''\n",
    "P = 9.9740514\n",
    "t0 = 2830.1961049\n",
    "\n",
    "lc_s056 = pd.read_table(fname, delimiter='\\t')\n",
    "\n",
    "time = lc_s056.time.values\n",
    "flux = lc_s056.flux.values\n",
    "flux_err = lc_s056.flux_err.values\n",
    "qual = lc_s056.quality.values\n",
    "\n",
    "data = np.zeros((len(time[qual == 0]), 3))\n",
    "data[:,0], data[:,1], data[:,2] = time[qual ==  0], flux[qual == 0], flux_err[qual == 0]"
   ]
  },
  {
   "cell_type": "code",
   "execution_count": null,
   "metadata": {},
   "outputs": [],
   "source": [
    "# template - accounting for the eclipsed data\n",
    "template_sin = np.genfromtxt('../data/template_s056_qua')\n",
    "\n",
    "template_sin[:,1] /= np.median(template_sin[:,1])\n",
    "\n",
    "\n",
    "# template - binary model\n",
    "template_bin = np.genfromtxt('../data/bintemplate_s056_qua')\n",
    "\n",
    "template_bin[:,1] /= np.median(template_bin[:,1])"
   ]
  },
  {
   "cell_type": "code",
   "execution_count": null,
   "metadata": {},
   "outputs": [],
   "source": [
    "def convert(time, P, t0):\n",
    "    result = (time - t0) / P\n",
    "    return result\n",
    "\n",
    "data[:,0] = convert(time = data[:,0], P = P, t0 = t0)"
   ]
  },
  {
   "cell_type": "code",
   "execution_count": null,
   "metadata": {},
   "outputs": [],
   "source": [
    "# limits of eclipse:\n",
    "ecl_limit = [[-0.021,0.021],[0.48,-0.47]]\n",
    "\n",
    "def phase(input):\n",
    "    result = np.copy(input)\n",
    "    result += 1.\n",
    "    result = result % 1\n",
    "    result -= 1.\n",
    "    return result\n",
    "\n",
    "t_phase = phase(data[:,0])\n",
    "\n",
    "mask = ((t_phase > ecl_limit[0][0]) & (t_phase < ecl_limit[0][1])) | (t_phase > ecl_limit[1][0]) | (t_phase < ecl_limit[1][1])\n",
    "mask = ~mask"
   ]
  },
  {
   "cell_type": "code",
   "execution_count": null,
   "metadata": {},
   "outputs": [],
   "source": [
    "# configuration for binning:\n",
    "\n",
    "bin_from = 100\n",
    "bin_to = 121\n",
    "bin_step = 2\n",
    "\n",
    "n_bins = (bin_to - bin_from) // 2 + 1\n",
    "print('number of interpolations: {0:d}'.format(n_bins))\n",
    "\n",
    "y_intps = np.zeros((len(data[:,0]), n_bins))\n",
    "i_int = 0\n",
    "for bin_try in range(bin_from, bin_to, bin_step):\n",
    "\tt_s = data[mask,0][bin_try // 2::bin_try]\n",
    "\ty_s = np.zeros(len(t_s))\n",
    "\tfor i in range(len(t_s)):\n",
    "\t\ty_s[i] = np.median(data[mask, 1][0+i*bin_try:bin_try+i*bin_try])\n",
    "\n",
    "\tbspl = make_interp_spline(t_s, y_s, k=3)\n",
    "\ty_intps[:,i_int] = bspl(data[:,0])\n",
    "\t\n",
    "\ti_int += 1\n",
    "\n",
    "y_s = np.median(y_intps, axis=1)"
   ]
  },
  {
   "cell_type": "code",
   "execution_count": null,
   "metadata": {},
   "outputs": [],
   "source": [
    "data_rawpuls = np.copy(data[:, 1] / (template_bin[:,1] * y_s))\n",
    "\n",
    "\n",
    "bin_from = 100\n",
    "bin_to = 121\n",
    "bin_step = 2\n",
    "\n",
    "n_bins = (bin_to - bin_from) // 2 + 1\n",
    "print('number of interpolations: {0:d}'.format(n_bins))\n",
    "y_intps = np.zeros((len(data[:,0]), n_bins))\n",
    "i_int = 0\n",
    "for bin_try in range(100,121,2):\n",
    "\tt_s3 = data[:,0][bin_try // 2::bin_try]\n",
    "\ty_s3 = np.zeros(len(t_s3))\n",
    "\tfor i in range(len(t_s3)):\n",
    "\t\ty_s3[i] = np.median(data_rawpuls[0+i*bin_try:bin_try+i*bin_try])\n",
    "\n",
    "\tbspl = make_interp_spline(t_s3, y_s3, k=3)\n",
    "\ty_intps[:,i_int] = bspl(data[:,0])\n",
    "\ti_int += 1\n",
    "\n",
    "y_s3s = np.median(y_intps, axis=1)"
   ]
  },
  {
   "cell_type": "code",
   "execution_count": null,
   "metadata": {},
   "outputs": [],
   "source": [
    "y_s4s = y_s * y_s3s\n",
    "\n",
    "data_rawpuls_r2 = np.copy((data[:, 1] - (template_bin[:,1] * y_s4s)) / np.median(y_s4s))"
   ]
  },
  {
   "cell_type": "code",
   "execution_count": null,
   "metadata": {},
   "outputs": [],
   "source": [
    "# If you want to check it, uncomment it\n",
    "\n",
    "# plt.figure(figsize=(12,5))\n",
    "\n",
    "# plt.plot(data[:,0], data[:,1] / np.median(data[:,1]), 'o', color = 'gray', ms = 0.5)\n",
    "# plt.plot(data[:,0], data_rawpuls_r2 + 1, 'ko', ms = 0.5)\n",
    "\n",
    "# plt.xlim(-0.5,0.5)\n",
    "# plt.ylim(0.9,1.1)\n",
    "# plt.show()\n",
    "\n",
    "\n",
    "# plt.figure(figsize=(12,5))\n",
    "\n",
    "# plt.plot(data[:,0], data[:,1] / np.median(data[:,1]), 'o', color = 'gray', ms = 0.5)\n",
    "# plt.plot(data[:,0], data_rawpuls_r2 + 1, 'ko', ms = 0.5)\n",
    "\n",
    "# plt.xlim(0.5,1.5)\n",
    "# plt.ylim(.9,1.1)\n",
    "# plt.show()\n",
    "\n",
    "# plt.figure(figsize=(12,5))\n",
    "\n",
    "# plt.plot(data[:,0], data[:,1] / np.median(data[:,1]), 'o', color = 'gray', ms = 0.5)\n",
    "# plt.plot(data[:,0], data_rawpuls_r2 + 1, 'ko', ms = 0.5)\n",
    "\n",
    "# plt.xlim(1.5,2.5)\n",
    "# plt.ylim(.9,1.1)\n",
    "# plt.show()"
   ]
  },
  {
   "cell_type": "code",
   "execution_count": null,
   "metadata": {},
   "outputs": [],
   "source": [
    "# exporting it\n",
    "data_export = np.zeros((len(data[:,0]),3))\n",
    "\n",
    "data_export[:,0] = data[:,0]\n",
    "data_export[:,1] = data_rawpuls_r2\n",
    "data_export[:,2] = data[:,2] / y_s4s\n",
    "\n",
    "np.savetxt('../data/tess_gk_dra_s056.norm', data_export)"
   ]
  }
 ],
 "metadata": {
  "language_info": {
   "name": "python"
  }
 },
 "nbformat": 4,
 "nbformat_minor": 2
}
